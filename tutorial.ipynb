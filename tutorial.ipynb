{
 "cells": [
  {
   "cell_type": "code",
   "execution_count": 27,
   "metadata": {},
   "outputs": [],
   "source": [
    "# Import necessary libraries\n",
    "from selenium import webdriver\n",
    "from selenium.webdriver.common.keys import Keys\n",
    "from selenium.webdriver.common.by import By\n",
    "import time\n"
   ]
  },
  {
   "cell_type": "code",
   "execution_count": 31,
   "metadata": {},
   "outputs": [
    {
     "name": "stdout",
     "output_type": "stream",
     "text": [
      "Google\n"
     ]
    }
   ],
   "source": [
    "# Accessing a website \n",
    "url = 'https://www.google.com/'\n",
    "driver = webdriver.Chrome()\n",
    "driver.get(url) \n",
    "\n",
    "# Printing the Website's Title\n",
    "print(driver.title)\n"
   ]
  },
  {
   "cell_type": "code",
   "execution_count": 32,
   "metadata": {},
   "outputs": [
    {
     "name": "stdout",
     "output_type": "stream",
     "text": [
      "https://www.google.com/search?q=Jupiter&sca_esv=85af15397c77c0f6&source=hp&ei=QfDdZeO-DPSHptQP4c-n0AM&iflsig=ANes7DEAAAAAZd3-US3nI7Rfz8IGTQWrlP2n0q8OWFDJ&ved=0ahUKEwij4_uZ3MuEAxX0g4kEHeHnCToQ4dUDCA8&uact=5&oq=Jupiter&gs_lp=Egdnd3Mtd2l6IgdKdXBpdGVySCRQAFgPcAB4AJABAJgBAKABAKoBALgBA8gBAPgBAZgCAKACAJgDAJIHAA&sclient=gws-wiz\n"
     ]
    }
   ],
   "source": [
    "# Submitting a query into the search bar\n",
    "\n",
    "search = driver.find_element(By.NAME, 'q')\n",
    "search.send_keys('Jupiter') \n",
    "search.send_keys(Keys.RETURN)\n",
    "\n",
    "# Retreiving the Current URL\n",
    "print(driver.current_url)"
   ]
  },
  {
   "cell_type": "code",
   "execution_count": 33,
   "metadata": {},
   "outputs": [],
   "source": [
    "#Accessing links inside Website\n",
    "\n",
    "link = driver.find_element(By.LINK_TEXT, 'Images')\n",
    "link.click()\n",
    "\n",
    "time.sleep(1.5)\n",
    "\n",
    "driver.close()\n"
   ]
  }
 ],
 "metadata": {
  "kernelspec": {
   "display_name": "Python 3.9.1 64-bit",
   "language": "python",
   "name": "python3"
  },
  "language_info": {
   "codemirror_mode": {
    "name": "ipython",
    "version": 3
   },
   "file_extension": ".py",
   "mimetype": "text/x-python",
   "name": "python",
   "nbconvert_exporter": "python",
   "pygments_lexer": "ipython3",
   "version": "3.9.1"
  },
  "orig_nbformat": 4,
  "vscode": {
   "interpreter": {
    "hash": "aee8b7b246df8f9039afb4144a1f6fd8d2ca17a180786b69acc140d282b71a49"
   }
  }
 },
 "nbformat": 4,
 "nbformat_minor": 2
}
