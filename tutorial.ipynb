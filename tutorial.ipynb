{
 "cells": [
  {
   "cell_type": "code",
   "execution_count": 1,
   "metadata": {},
   "outputs": [],
   "source": [
    "# Import necessary libraries\n",
    "from selenium import webdriver\n",
    "from selenium.webdriver.common.keys import Keys\n",
    "from selenium.webdriver.common.by import By\n",
    "import time\n"
   ]
  },
  {
   "cell_type": "code",
   "execution_count": 5,
   "metadata": {},
   "outputs": [
    {
     "name": "stdout",
     "output_type": "stream",
     "text": [
      "Google\n"
     ]
    }
   ],
   "source": [
    "# Accessing a website \n",
    "url = 'https://www.google.com/'\n",
    "driver = webdriver.Chrome()\n",
    "driver.get(url) \n",
    "\n",
    "# Printing the Website's Title\n",
    "print(driver.title)\n"
   ]
  },
  {
   "cell_type": "code",
   "execution_count": 6,
   "metadata": {},
   "outputs": [
    {
     "name": "stdout",
     "output_type": "stream",
     "text": [
      "https://www.google.com/search?q=Jupiter&sca_esv=b679d9581e4a3aee&source=hp&ei=4xTnZdlt6Mim1A_czZ2gBw&iflsig=ANes7DEAAAAAZeci87ctlgWi284DSbB0d1iyytAPhW5h&ved=0ahUKEwiZ69OzlN2EAxVopIkEHdxmB3QQ4dUDCA8&uact=5&oq=Jupiter&gs_lp=Egdnd3Mtd2l6IgdKdXBpdGVySCZQAFgOcAB4AJABAJgBAKABAKoBALgBA8gBAPgBAZgCAKACAJgDAJIHAKAHAA&sclient=gws-wiz\n"
     ]
    }
   ],
   "source": [
    "# Submitting a query into the search bar\n",
    "\n",
    "search = driver.find_element(By.NAME, 'q')\n",
    "search.send_keys('Jupiter') \n",
    "search.send_keys(Keys.RETURN)\n",
    "\n",
    "# Retreiving the Current URL\n",
    "print(driver.current_url)"
   ]
  },
  {
   "cell_type": "code",
   "execution_count": 7,
   "metadata": {},
   "outputs": [
    {
     "name": "stdout",
     "output_type": "stream",
     "text": [
      "Orbiting Jupiter\n"
     ]
    }
   ],
   "source": [
    "# Links within website\n",
    "\n",
    "# Accessing the Images tab \n",
    "images = driver.find_element(By.LINK_TEXT, 'Images')\n",
    "images.click()\n",
    "\n",
    "time.sleep(1.5)\n",
    "\n",
    "# Switching to the books tab\n",
    "books = driver.find_element(By.LINK_TEXT, 'Books')\n",
    "books.click()\n",
    "\n",
    "time.sleep(1)\n",
    "\n",
    "# Getting the title of the first book\n",
    "book_title = driver.find_element(By.CLASS_NAME, 'LC20lb')\n",
    "print(book_title.text)\n",
    "\n",
    "\n",
    "driver.close()\n"
   ]
  },
  {
   "cell_type": "code",
   "execution_count": null,
   "metadata": {},
   "outputs": [],
   "source": []
  }
 ],
 "metadata": {
  "kernelspec": {
   "display_name": "Python 3.9.1 64-bit",
   "language": "python",
   "name": "python3"
  },
  "language_info": {
   "codemirror_mode": {
    "name": "ipython",
    "version": 3
   },
   "file_extension": ".py",
   "mimetype": "text/x-python",
   "name": "python",
   "nbconvert_exporter": "python",
   "pygments_lexer": "ipython3",
   "version": "3.9.1"
  },
  "orig_nbformat": 4,
  "vscode": {
   "interpreter": {
    "hash": "aee8b7b246df8f9039afb4144a1f6fd8d2ca17a180786b69acc140d282b71a49"
   }
  }
 },
 "nbformat": 4,
 "nbformat_minor": 2
}
