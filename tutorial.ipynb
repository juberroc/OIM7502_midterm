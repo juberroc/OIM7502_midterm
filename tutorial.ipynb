{
 "cells": [
  {
   "cell_type": "code",
   "execution_count": 1,
   "metadata": {},
   "outputs": [],
   "source": [
    "# Import necessary libraries\n",
    "from selenium import webdriver\n",
    "from selenium.webdriver.common.keys import Keys\n",
    "from selenium.webdriver.common.by import By\n",
    "import time\n"
   ]
  },
  {
   "cell_type": "code",
   "execution_count": null,
   "metadata": {},
   "outputs": [],
   "source": [
    "# Accessing a website \n",
    "\n",
    "url = 'https://www.google.com/'\n",
    "driver = webdriver.Chrome()\n",
    "driver.get(url) \n",
    "\n",
    "# Printing the Website's Title\n",
    "print(driver.title)\n",
    "\n",
    "# Printing the page source code\n",
    "print(driver.page_source)\n"
   ]
  },
  {
   "cell_type": "code",
   "execution_count": 7,
   "metadata": {},
   "outputs": [
    {
     "name": "stdout",
     "output_type": "stream",
     "text": [
      "https://www.google.com/search?q=Jupiter&sca_esv=3c0cd88929cc7700&sca_upv=1&source=hp&ei=hxDvZbvoNrrOkPIPrKeZsAE&iflsig=ANes7DEAAAAAZe8elx0UCiuid29Wsp8eQt7r3bwcJDz8&ved=0ahUKEwj7x_avseyEAxU6J0QIHaxTBhYQ4dUDCBA&uact=5&oq=Jupiter&gs_lp=Egdnd3Mtd2l6IgdKdXBpdGVySCVQAFgOcAB4AJABAJgBAKABAKoBALgBA8gBAPgBAZgCAKACAJgDAJIHAKAHAA&sclient=gws-wiz\n"
     ]
    }
   ],
   "source": [
    "# Submitting a query into the Google search bar\n",
    "\n",
    "# Finding the search bar element\n",
    "search = driver.find_element(By.NAME, 'q')\n",
    "\n",
    "# Typing our query and submitting it\n",
    "search.send_keys('Jupiter') \n",
    "search.send_keys(Keys.RETURN)\n",
    "\n",
    "# Retreiving the Current URL to visualize the search\n",
    "print(driver.current_url)"
   ]
  },
  {
   "cell_type": "code",
   "execution_count": 8,
   "metadata": {},
   "outputs": [],
   "source": [
    "# Accessing Quick Links within website\n",
    "\n",
    "# Accessing the Images tab on Google \n",
    "images = driver.find_element(By.LINK_TEXT, 'Images')\n",
    "images.click()\n",
    "\n",
    "# Wait for 1.5 seconds\n",
    "time.sleep(1.5)\n",
    "\n",
    "# Switching to the books tab on Google\n",
    "books = driver.find_element(By.LINK_TEXT, 'Books')\n",
    "books.click()\n",
    "\n",
    "# Wait for 1.5 seconds\n",
    "time.sleep(1.5)\n",
    "\n",
    "# Close the browser\n",
    "driver.quit()\n"
   ]
  },
  {
   "cell_type": "code",
   "execution_count": 2,
   "metadata": {},
   "outputs": [
    {
     "name": "stdout",
     "output_type": "stream",
     "text": [
      "Title of the page is: Wikipedia\n",
      "Title of the page is: Google\n",
      "Title after going back: Wikipedia\n",
      "Title after going forward: Google\n"
     ]
    }
   ],
   "source": [
    "# Using driver.forward() and driver.back()\n",
    "\n",
    "driver = webdriver.Chrome()\n",
    "\n",
    "# Open a website\n",
    "driver.get(\"http://www.wikipedia.org\")\n",
    "print(\"Title of the page is:\", driver.title)  # Prints the title of the first page\n",
    "\n",
    "# Wait for 1.5 seconds\n",
    "time.sleep(1.5)\n",
    "\n",
    "# Navigate to another page\n",
    "driver.get(\"http://www.google.com\")\n",
    "print(\"Title of the page is:\", driver.title)  # Prints the title of the second page\n",
    "\n",
    "# Wait for 1.5 seconds\n",
    "time.sleep(1.5)\n",
    "\n",
    "# Use the back method to go back to the previous page\n",
    "driver.back()\n",
    "print(\"Title after going back:\", driver.title)  # Should print the title of the first page\n",
    "\n",
    "# Wait for 1.5 seconds\n",
    "time.sleep(1.5)\n",
    "\n",
    "# Use the forward method to navigate forward in the browser history\n",
    "driver.forward()\n",
    "print(\"Title after going forward:\", driver.title)  # Should print the title of the second page\n",
    "\n",
    "# Close the browser\n",
    "driver.quit()\n"
   ]
  }
 ],
 "metadata": {
  "kernelspec": {
   "display_name": "Python 3.9.1 64-bit",
   "language": "python",
   "name": "python3"
  },
  "language_info": {
   "codemirror_mode": {
    "name": "ipython",
    "version": 3
   },
   "file_extension": ".py",
   "mimetype": "text/x-python",
   "name": "python",
   "nbconvert_exporter": "python",
   "pygments_lexer": "ipython3",
   "version": "3.9.1"
  },
  "orig_nbformat": 4,
  "vscode": {
   "interpreter": {
    "hash": "aee8b7b246df8f9039afb4144a1f6fd8d2ca17a180786b69acc140d282b71a49"
   }
  }
 },
 "nbformat": 4,
 "nbformat_minor": 2
}
