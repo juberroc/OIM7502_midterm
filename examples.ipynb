{
 "cells": [
  {
   "cell_type": "code",
   "execution_count": null,
   "metadata": {},
   "outputs": [],
   "source": [
    "\"\"\"\n",
    "Name: Julio Berrocal Alvarez\n",
    "Library: Selenium\n",
    "URL: Link to library documentation\n",
    "Description:\n",
    "This library is a powerful tool primarily used for automating web browsers. It's commonly used for testing web applications, \n",
    "but it can also be utilized for various other purposes, including web scraping, web data extraction, \n",
    "and even for interacting with web-based user interfaces.\n",
    "\"\"\""
   ]
  },
  {
   "cell_type": "code",
   "execution_count": 6,
   "metadata": {},
   "outputs": [],
   "source": [
    "#Import necessary libraries\n",
    "from selenium import webdriver\n",
    "from selenium.webdriver.common.keys import Keys\n",
    "from selenium.webdriver.common.by import By\n",
    "import time\n"
   ]
  },
  {
   "cell_type": "code",
   "execution_count": 32,
   "metadata": {},
   "outputs": [
    {
     "name": "stdout",
     "output_type": "stream",
     "text": [
      "Welcome to Python.org\n",
      "https://www.python.org/search/?q=Advanced+Python&submit=\n",
      "PEP 206 -- Python Advanced Library\n",
      "Python Software Foundation: Press Release 13-Feb-2003\n",
      "Python Software Foundation: Press Release 9-Feb-2004\n",
      "Job - Senior Python Backend Engineer\n",
      "Mission\n",
      "Fiscal Sponsorees\n",
      "PyCon Registration Form\n",
      "PyCon Registration Form\n",
      "Python Software Foundation: Press Release 27-Dec-2004\n",
      "Job - Michigan Online, Software Engineer\n",
      "Community Events Manager\n",
      "Python Software Foundation: Minutes of Board of Directors Meeting (March 11, 2003)\n",
      "PyCon Home at python.org\n",
      "Search Python Resources\n",
      "2021 PSF Annual Report\n",
      "Applications for Python\n",
      "Python Software Foundation FAQ\n",
      "Python Success Stories\n",
      "Job - Python Sr Dev Urgent requirement\n",
      "PEP 103 -- Collecting information about git\n"
     ]
    }
   ],
   "source": [
    "#Example 1: Navigating Web Pages and Web Scraping\n",
    "\n",
    "#Accessing a website and printing the title\n",
    "\n",
    "driver = webdriver.Chrome()\n",
    "driver.get(\"https://www.python.org\")\n",
    "print(driver.title)\n",
    "\n",
    "time.sleep(2)\n",
    "\n",
    "#Submitting a query into the search bar\n",
    "\n",
    "search= driver.find_element(By.NAME, \"q\")\n",
    "search.clear()\n",
    "search.send_keys(\"Advanced Python\")\n",
    "search.send_keys(Keys.RETURN)\n",
    "\n",
    "print(driver.current_url)\n",
    "\n",
    "time.sleep(2)\n",
    "\n",
    "#Scrolling down to see all results\n",
    "\n",
    "for i in range(9):\n",
    "    driver.execute_script(\"window.scrollBy(0,150);\")\n",
    "    time.sleep(1)  \n",
    "\n",
    "#Locating and printing search results \n",
    "\n",
    "ul_element = driver.find_element(By.CLASS_NAME, \"list-recent-events\")\n",
    "\n",
    "list_items = ul_element.find_elements(By.TAG_NAME, \"li\")\n",
    "\n",
    "for item in list_items:\n",
    "    link = item.find_element(By.TAG_NAME, \"a\")\n",
    "    print(link.text)\n",
    "\n",
    "time.sleep(2)\n",
    "\n",
    "driver.quit() "
   ]
  },
  {
   "cell_type": "code",
   "execution_count": 33,
   "metadata": {},
   "outputs": [
    {
     "name": "stderr",
     "output_type": "stream",
     "text": [
      ".\n",
      "----------------------------------------------------------------------\n",
      "Ran 1 test in 8.963s\n",
      "\n",
      "OK\n"
     ]
    },
    {
     "data": {
      "text/plain": [
       "<unittest.main.TestProgram at 0x7f99fc92ed90>"
      ]
     },
     "execution_count": 33,
     "metadata": {},
     "output_type": "execute_result"
    }
   ],
   "source": [
    "#Example 2: Selenium for Website Testing\n",
    "\n",
    "import unittest\n",
    "\n",
    "class ChromeSearch(unittest.TestCase):\n",
    "\n",
    "    def setUp(self):\n",
    "        self.driver = webdriver.Chrome()\n",
    "\n",
    "    def test_python_website(self):\n",
    "        driver = self.driver\n",
    "        driver.get(\"https://www.python.org\")\n",
    "        self.assertIn(\"Python\", driver.title)\n",
    "        elem = driver.find_element(By.NAME, \"q\")\n",
    "        elem.send_keys(\"Advanced Python Bootcamps\")\n",
    "        elem.send_keys(Keys.RETURN)\n",
    "        self.assertEqual(\"https://www.python.org/search/?q=Advanced+Python+Bootcamps&submit=\", driver.current_url)\n",
    "\n",
    "    def tearDown(self):\n",
    "        time.sleep(5)\n",
    "        self.driver.quit()\n",
    "\n",
    "unittest.main(argv=[''], exit=False)\n"
   ]
  }
 ],
 "metadata": {
  "kernelspec": {
   "display_name": "Python 3.9.1 64-bit",
   "language": "python",
   "name": "python3"
  },
  "language_info": {
   "codemirror_mode": {
    "name": "ipython",
    "version": 3
   },
   "file_extension": ".py",
   "mimetype": "text/x-python",
   "name": "python",
   "nbconvert_exporter": "python",
   "pygments_lexer": "ipython3",
   "version": "3.9.1"
  },
  "orig_nbformat": 4,
  "vscode": {
   "interpreter": {
    "hash": "aee8b7b246df8f9039afb4144a1f6fd8d2ca17a180786b69acc140d282b71a49"
   }
  }
 },
 "nbformat": 4,
 "nbformat_minor": 2
}
