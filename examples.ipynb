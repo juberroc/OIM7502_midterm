{
 "cells": [
  {
   "cell_type": "code",
   "execution_count": 1,
   "metadata": {},
   "outputs": [
    {
     "data": {
      "text/plain": [
       "\"\\nName: Julio Berrocal Alvarez\\nLibrary: Selenium\\nURL: Link to library documentation\\nDescription:\\nThis library is a powerful tool primarily used for automating web browsers. It's commonly used for testing web applications, \\nbut it can also be utilized for various other purposes, including web scraping, web data extraction, \\nand even for interacting with web-based user interfaces.\\n\""
      ]
     },
     "execution_count": 1,
     "metadata": {},
     "output_type": "execute_result"
    }
   ],
   "source": [
    "\"\"\"\n",
    "Name: Julio Berrocal Alvarez\n",
    "Library: Selenium\n",
    "URL: Link to library documentation\n",
    "Description:\n",
    "This library is a powerful tool primarily used for automating web browsers. It's commonly used for testing web applications, \n",
    "but it can also be utilized for various other purposes, including web scraping, web data extraction, \n",
    "and even for interacting with web-based user interfaces.\n",
    "\"\"\""
   ]
  },
  {
   "cell_type": "code",
   "execution_count": 1,
   "metadata": {},
   "outputs": [],
   "source": [
    "#Import necessary libraries\n",
    "from selenium import webdriver\n",
    "from selenium.webdriver.common.keys import Keys\n",
    "from selenium.webdriver.common.by import By\n",
    "import time\n",
    "import unittest\n"
   ]
  },
  {
   "cell_type": "code",
   "execution_count": 2,
   "metadata": {},
   "outputs": [
    {
     "name": "stdout",
     "output_type": "stream",
     "text": [
      "Welcome to Python.org\n",
      "https://www.python.org/search/?q=Tutorial&submit=\n",
      "Welcome to Python.org\n",
      "https://www.python.org/search/?q=Advanced+Python&submit=\n"
     ]
    },
    {
     "data": {
      "text/plain": [
       "['PEP 206 -- Python Advanced Library',\n",
       " 'Python Software Foundation: Press Release 13-Feb-2003',\n",
       " 'Python Software Foundation: Press Release 9-Feb-2004',\n",
       " 'Job - Senior Python Backend Engineer',\n",
       " 'Mission',\n",
       " 'Fiscal Sponsorees',\n",
       " 'PyCon Registration Form',\n",
       " 'PyCon Registration Form',\n",
       " 'Python Software Foundation: Press Release 27-Dec-2004',\n",
       " 'Job - Michigan Online, Software Engineer',\n",
       " 'Community Events Manager',\n",
       " 'Python Software Foundation: Minutes of Board of Directors Meeting (March 11, 2003)',\n",
       " 'PyCon Home at python.org',\n",
       " 'Search Python Resources',\n",
       " '2021 PSF Annual Report',\n",
       " 'Applications for Python',\n",
       " 'Python Software Foundation FAQ',\n",
       " 'Job - Software Development Engineer',\n",
       " 'Python Success Stories',\n",
       " 'Job - Python Sr Dev / TL Dev urgent position']"
      ]
     },
     "execution_count": 2,
     "metadata": {},
     "output_type": "execute_result"
    }
   ],
   "source": [
    "#Example 1: Navigating Web Pages and Web Scraping\n",
    "\n",
    "def scrape_python(query):\n",
    "\n",
    "    # Accessing a website and printing the title\n",
    "    driver = webdriver.Chrome()\n",
    "    driver.get(\"https://www.python.org\")\n",
    "    print(driver.title)\n",
    "\n",
    "    # Stalling for 1 second to visualize results\n",
    "    time.sleep(1)\n",
    "\n",
    "    # Submitting a query into the search bar\n",
    "    search= driver.find_element(By.NAME, \"q\")\n",
    "    search.clear()\n",
    "    search.send_keys(query)\n",
    "    search.send_keys(Keys.RETURN)\n",
    "\n",
    "    # Printing updated Title\n",
    "    print(driver.current_url)\n",
    "\n",
    "    time.sleep(2)\n",
    "\n",
    "    # Scrolling through website to see all results\n",
    "    for i in range(12):\n",
    "        driver.execute_script(\"window.scrollBy(0,350);\")\n",
    "        time.sleep(1)  \n",
    "\n",
    "    # Locating and printing search results \n",
    "    ul_element = driver.find_element(By.CLASS_NAME, \"list-recent-events\")\n",
    "    list_items = ul_element.find_elements(By.TAG_NAME, \"li\")\n",
    "\n",
    "    # Looping through <li> items inside list_items and storing results\n",
    "    results = []\n",
    "    for item in list_items:\n",
    "        link = item.find_element(By.TAG_NAME, \"a\")\n",
    "        results.append(link.text)\n",
    "\n",
    "    time.sleep(2)\n",
    "\n",
    "    driver.quit() \n",
    "\n",
    "    return results\n",
    "\n",
    "#scrape_python('Tutorial')\n",
    "scrape_python('Advanced Python')"
   ]
  },
  {
   "cell_type": "code",
   "execution_count": 3,
   "metadata": {},
   "outputs": [
    {
     "name": "stderr",
     "output_type": "stream",
     "text": [
      "."
     ]
    },
    {
     "name": "stdout",
     "output_type": "stream",
     "text": [
      "Page Load Time: 1136 milliseconds\n"
     ]
    },
    {
     "name": "stderr",
     "output_type": "stream",
     "text": [
      "..\n",
      "----------------------------------------------------------------------\n",
      "Ran 3 tests in 13.749s\n",
      "\n",
      "OK\n"
     ]
    },
    {
     "data": {
      "text/plain": [
       "<unittest.main.TestProgram at 0x7fcb10af2910>"
      ]
     },
     "execution_count": 3,
     "metadata": {},
     "output_type": "execute_result"
    }
   ],
   "source": [
    "#Example 2: Selenium for Website Testing\n",
    "\n",
    "class ChromeSearch(unittest.TestCase):\n",
    "\n",
    "    def setUp(self):\n",
    "        self.driver = webdriver.Chrome()\n",
    "\n",
    "    # Search Functionality Testing\n",
    "    def test_python_website(self):\n",
    "        driver = self.driver\n",
    "        driver.get(\"https://www.python.org\")\n",
    "\n",
    "        elem = driver.find_element(By.NAME, \"q\")\n",
    "        elem.send_keys(\"Advanced Python Bootcamps\")\n",
    "        elem.send_keys(Keys.RETURN)\n",
    "\n",
    "        # Assert that search terms are included in new URL\n",
    "        self.assertIn(\"Advanced+Python+Bootcamps\", driver.current_url)\n",
    "\n",
    "    # Loading Performance Testing\n",
    "    def test_page_load_time(self):\n",
    "        driver = self.driver\n",
    "        driver.get(\"https://www.python.org\")\n",
    "        \n",
    "        # Use Navigation Timing to measure the page load time\n",
    "        navigation_start = driver.execute_script(\"return window.performance.timing.navigationStart\")\n",
    "        navigation_end = driver.execute_script(\"return window.performance.timing.loadEventEnd\")\n",
    "        page_load_time = navigation_end - navigation_start\n",
    "        \n",
    "        print(f\"Page Load Time: {page_load_time} milliseconds\")\n",
    "        \n",
    "        # Assert that the page load time is less than 2 seconds (2000 milliseconds)\n",
    "        self.assertTrue(page_load_time < 2000)\n",
    "\n",
    "    #Design Testing: Mobile Device\n",
    "    def test_menu_visibility_mobile(self):\n",
    "        driver = self.driver\n",
    "        driver.get(\"https://www.python.org\")\n",
    "        \n",
    "        # Set window size to simulate a mobile device\n",
    "        driver.set_window_size(480, 800)\n",
    "    \n",
    "        # Finding mobile menu toggle 'Close' switch\n",
    "        close_link = driver.find_element(By.ID, \"close-python-network\")\n",
    "        close_link.click()\n",
    "\n",
    "        time.sleep(1)\n",
    "\n",
    "        # Finding mobile menu toggle 'Open' switch\n",
    "        open_link = driver.find_element(By.ID, 'python-network')\n",
    "        open_link.click()\n",
    "        \n",
    "        # Assert both toggle switches are available on the mobile device version\n",
    "        self.assertTrue(close_link.is_displayed())\n",
    "        self.assertTrue(open_link.is_displayed())\n",
    "\n",
    "    def tearDown(self):\n",
    "        time.sleep(1)\n",
    "        self.driver.quit()\n",
    "\n",
    "unittest.main(argv=[''], exit=False)\n"
   ]
  }
 ],
 "metadata": {
  "kernelspec": {
   "display_name": "Python 3.9.1 64-bit",
   "language": "python",
   "name": "python3"
  },
  "language_info": {
   "codemirror_mode": {
    "name": "ipython",
    "version": 3
   },
   "file_extension": ".py",
   "mimetype": "text/x-python",
   "name": "python",
   "nbconvert_exporter": "python",
   "pygments_lexer": "ipython3",
   "version": "3.9.1"
  },
  "orig_nbformat": 4,
  "vscode": {
   "interpreter": {
    "hash": "aee8b7b246df8f9039afb4144a1f6fd8d2ca17a180786b69acc140d282b71a49"
   }
  }
 },
 "nbformat": 4,
 "nbformat_minor": 2
}
